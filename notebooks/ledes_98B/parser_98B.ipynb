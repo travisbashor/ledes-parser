{
 "cells": [
  {
   "cell_type": "code",
   "execution_count": null,
   "metadata": {},
   "outputs": [],
   "source": [
    "from pathlib import Path\n",
    "import os\n",
    "\n",
    "data_directory = Path(os.getcwd()) / 'data'\n",
    "\n",
    "print(data_directory)"
   ]
  },
  {
   "cell_type": "code",
   "execution_count": null,
   "metadata": {},
   "outputs": [],
   "source": [
    "from lark import Lark\n",
    "\n",
    "grammar_file = Path(os.getcwd()).parent.parent / 'ledes_parser' / 'grammars' / 'spec_1998B' / 'line_item.lark'\n",
    "print(grammar_file)\n",
    "\n",
    "parser = Lark.open(grammar_file)\n",
    "line_item = \"\"\"\n",
    "19990225|96542|00711|0528|1684.45|19990101|19990131|For services rendered|1|F|2.00|-70|630|19990115|L510||A102|22547|Research Attorney's fees, Set off claim|24-6437381|350|Arnsley, Robert|PARTNR|423-987\n",
    "\"\"\"\n",
    "ast = parser.parse(line_item)\n",
    "print(ast.pretty())\n"
   ]
  },
  {
   "cell_type": "code",
   "execution_count": null,
   "metadata": {},
   "outputs": [],
   "source": [
    "from ledes_parser.transformers.transformer_1998B import LineItemTransformer\n",
    "import pprint\n",
    "\n",
    "line_item_transformer = LineItemTransformer()\n",
    "line_item_tree = parser.parse(line_item)\n",
    "result = line_item_transformer.transform(line_item_tree)\n",
    "pprint.pprint(result)\n"
   ]
  },
  {
   "cell_type": "code",
   "execution_count": null,
   "metadata": {},
   "outputs": [],
   "source": [
    "from ledes_parser import get_parser\n",
    "\n",
    "\n",
    "parser = get_parser(spec='1998B', ast_only=True)\n",
    "ledes_text = \"\"\"\n",
    "LEDES1998B[]\n",
    "INVOICE_DATE|INVOICE_NUMBER|CLIENT_ID|LAW_FIRM_MATTER_ID|INVOICE_TOTAL|BILLING_START_DATE|BILLING_END_DATE|INVOICE_DESCRIPTION|LINE_ITEM_NUMBER|EXP/FEE/INV_ADJ_TYPE|LINE_ITEM_NUMBER_OF_UNITS|LINE_ITEM_ADJUSTMENT_AMOUNT|LINE_ITEM_TOTAL|LINE_ITEM_DATE|LINE_ITEM_TASK_CODE|LINE_ITEM_EXPENSE_CODE|LINE_ITEM_ACTIVITY_CODE|TIMEKEEPER_ID|LINE_ITEM_DESCRIPTION|LAW_FIRM_ID|LINE_ITEM_UNIT_COST|TIMEKEEPER_NAME|TIMEKEEPER_CLASSIFICATION|CLIENT_MATTER_ID[]\n",
    "19990225|96542|00711|0528|1684.45|19990101|19990131|For services rendered|1|F|2.00|-70|630|19990115|L510||A102|22547|Research Attorney's fees, Set off claim|24-6437381|350|Arnsley, Robert|PARTNR|423-987[]\n",
    "\"\"\"\n",
    "ledes_ast = parser.parse(ledes_text)\n",
    "print(ledes_ast.pretty())"
   ]
  },
  {
   "cell_type": "code",
   "execution_count": null,
   "metadata": {},
   "outputs": [],
   "source": [
    "from lark.visitors import merge_transformers\n",
    "from ledes_parser.transformers.transformer_1998B import LineItemTransformer, LEDES1998BTransformer\n",
    "\n",
    "merged = merge_transformers(base_transformer=LEDES1998BTransformer(), line_item=LineItemTransformer())\n",
    "ledes_data = merged.transform(ledes_ast)\n",
    "ledes_data"
   ]
  }
 ],
 "metadata": {
  "kernelspec": {
   "display_name": ".venv",
   "language": "python",
   "name": "python3"
  },
  "language_info": {
   "codemirror_mode": {
    "name": "ipython",
    "version": 3
   },
   "file_extension": ".py",
   "mimetype": "text/x-python",
   "name": "python",
   "nbconvert_exporter": "python",
   "pygments_lexer": "ipython3",
   "version": "3.11.9"
  }
 },
 "nbformat": 4,
 "nbformat_minor": 2
}
